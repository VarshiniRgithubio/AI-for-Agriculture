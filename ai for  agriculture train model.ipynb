{
 "cells": [
  {
   "cell_type": "markdown",
   "id": "5a51435c-db4c-40d9-80e5-70d05f3022af",
   "metadata": {},
   "source": [
    "## Importing libraries\n"
   ]
  },
  {
   "cell_type": "code",
   "execution_count": 3,
   "id": "459c3b9f-f377-4593-9556-b1296d5b120a",
   "metadata": {},
   "outputs": [
    {
     "name": "stdout",
     "output_type": "stream",
     "text": [
      "Requirement already satisfied: matplotlib in c:\\users\\varsh\\.conda\\anaconda\\envs\\tensorflow_env\\lib\\site-packages (3.10.5)\n",
      "Requirement already satisfied: contourpy>=1.0.1 in c:\\users\\varsh\\.conda\\anaconda\\envs\\tensorflow_env\\lib\\site-packages (from matplotlib) (1.3.2)\n",
      "Requirement already satisfied: cycler>=0.10 in c:\\users\\varsh\\.conda\\anaconda\\envs\\tensorflow_env\\lib\\site-packages (from matplotlib) (0.12.1)\n",
      "Requirement already satisfied: fonttools>=4.22.0 in c:\\users\\varsh\\.conda\\anaconda\\envs\\tensorflow_env\\lib\\site-packages (from matplotlib) (4.59.0)\n",
      "Requirement already satisfied: kiwisolver>=1.3.1 in c:\\users\\varsh\\.conda\\anaconda\\envs\\tensorflow_env\\lib\\site-packages (from matplotlib) (1.4.8)\n",
      "Requirement already satisfied: numpy>=1.23 in c:\\users\\varsh\\.conda\\anaconda\\envs\\tensorflow_env\\lib\\site-packages (from matplotlib) (2.1.3)\n",
      "Requirement already satisfied: packaging>=20.0 in c:\\users\\varsh\\.conda\\anaconda\\envs\\tensorflow_env\\lib\\site-packages (from matplotlib) (25.0)\n",
      "Requirement already satisfied: pillow>=8 in c:\\users\\varsh\\.conda\\anaconda\\envs\\tensorflow_env\\lib\\site-packages (from matplotlib) (11.3.0)\n",
      "Requirement already satisfied: pyparsing>=2.3.1 in c:\\users\\varsh\\.conda\\anaconda\\envs\\tensorflow_env\\lib\\site-packages (from matplotlib) (3.2.3)\n",
      "Requirement already satisfied: python-dateutil>=2.7 in c:\\users\\varsh\\.conda\\anaconda\\envs\\tensorflow_env\\lib\\site-packages (from matplotlib) (2.9.0.post0)\n",
      "Requirement already satisfied: six>=1.5 in c:\\users\\varsh\\.conda\\anaconda\\envs\\tensorflow_env\\lib\\site-packages (from python-dateutil>=2.7->matplotlib) (1.17.0)\n",
      "Requirement already satisfied: pandas in c:\\users\\varsh\\.conda\\anaconda\\envs\\tensorflow_env\\lib\\site-packages (2.3.1)\n",
      "Requirement already satisfied: numpy>=1.22.4 in c:\\users\\varsh\\.conda\\anaconda\\envs\\tensorflow_env\\lib\\site-packages (from pandas) (2.1.3)\n",
      "Requirement already satisfied: python-dateutil>=2.8.2 in c:\\users\\varsh\\.conda\\anaconda\\envs\\tensorflow_env\\lib\\site-packages (from pandas) (2.9.0.post0)\n",
      "Requirement already satisfied: pytz>=2020.1 in c:\\users\\varsh\\.conda\\anaconda\\envs\\tensorflow_env\\lib\\site-packages (from pandas) (2025.2)\n",
      "Requirement already satisfied: tzdata>=2022.7 in c:\\users\\varsh\\.conda\\anaconda\\envs\\tensorflow_env\\lib\\site-packages (from pandas) (2025.2)\n",
      "Requirement already satisfied: six>=1.5 in c:\\users\\varsh\\.conda\\anaconda\\envs\\tensorflow_env\\lib\\site-packages (from python-dateutil>=2.8.2->pandas) (1.17.0)\n",
      "Requirement already satisfied: seaborn in c:\\users\\varsh\\.conda\\anaconda\\envs\\tensorflow_env\\lib\\site-packages (0.13.2)\n",
      "Requirement already satisfied: numpy!=1.24.0,>=1.20 in c:\\users\\varsh\\.conda\\anaconda\\envs\\tensorflow_env\\lib\\site-packages (from seaborn) (2.1.3)\n",
      "Requirement already satisfied: pandas>=1.2 in c:\\users\\varsh\\.conda\\anaconda\\envs\\tensorflow_env\\lib\\site-packages (from seaborn) (2.3.1)\n",
      "Requirement already satisfied: matplotlib!=3.6.1,>=3.4 in c:\\users\\varsh\\.conda\\anaconda\\envs\\tensorflow_env\\lib\\site-packages (from seaborn) (3.10.5)\n",
      "Requirement already satisfied: contourpy>=1.0.1 in c:\\users\\varsh\\.conda\\anaconda\\envs\\tensorflow_env\\lib\\site-packages (from matplotlib!=3.6.1,>=3.4->seaborn) (1.3.2)\n",
      "Requirement already satisfied: cycler>=0.10 in c:\\users\\varsh\\.conda\\anaconda\\envs\\tensorflow_env\\lib\\site-packages (from matplotlib!=3.6.1,>=3.4->seaborn) (0.12.1)\n",
      "Requirement already satisfied: fonttools>=4.22.0 in c:\\users\\varsh\\.conda\\anaconda\\envs\\tensorflow_env\\lib\\site-packages (from matplotlib!=3.6.1,>=3.4->seaborn) (4.59.0)\n",
      "Requirement already satisfied: kiwisolver>=1.3.1 in c:\\users\\varsh\\.conda\\anaconda\\envs\\tensorflow_env\\lib\\site-packages (from matplotlib!=3.6.1,>=3.4->seaborn) (1.4.8)\n",
      "Requirement already satisfied: packaging>=20.0 in c:\\users\\varsh\\.conda\\anaconda\\envs\\tensorflow_env\\lib\\site-packages (from matplotlib!=3.6.1,>=3.4->seaborn) (25.0)\n",
      "Requirement already satisfied: pillow>=8 in c:\\users\\varsh\\.conda\\anaconda\\envs\\tensorflow_env\\lib\\site-packages (from matplotlib!=3.6.1,>=3.4->seaborn) (11.3.0)\n",
      "Requirement already satisfied: pyparsing>=2.3.1 in c:\\users\\varsh\\.conda\\anaconda\\envs\\tensorflow_env\\lib\\site-packages (from matplotlib!=3.6.1,>=3.4->seaborn) (3.2.3)\n",
      "Requirement already satisfied: python-dateutil>=2.7 in c:\\users\\varsh\\.conda\\anaconda\\envs\\tensorflow_env\\lib\\site-packages (from matplotlib!=3.6.1,>=3.4->seaborn) (2.9.0.post0)\n",
      "Requirement already satisfied: pytz>=2020.1 in c:\\users\\varsh\\.conda\\anaconda\\envs\\tensorflow_env\\lib\\site-packages (from pandas>=1.2->seaborn) (2025.2)\n",
      "Requirement already satisfied: tzdata>=2022.7 in c:\\users\\varsh\\.conda\\anaconda\\envs\\tensorflow_env\\lib\\site-packages (from pandas>=1.2->seaborn) (2025.2)\n",
      "Requirement already satisfied: six>=1.5 in c:\\users\\varsh\\.conda\\anaconda\\envs\\tensorflow_env\\lib\\site-packages (from python-dateutil>=2.7->matplotlib!=3.6.1,>=3.4->seaborn) (1.17.0)\n"
     ]
    }
   ],
   "source": [
    "!pip install matplotlib\n",
    "!pip install pandas\n",
    "!pip install seaborn\n",
    "import tensorflow as tf\n",
    "import matplotlib.pyplot as plt\n",
    "import pandas #data visualization\n",
    "import seaborn as sns\n"
   ]
  },
  {
   "cell_type": "markdown",
   "id": "56783faa-e6da-4347-bf83-44e622f168ac",
   "metadata": {},
   "source": [
    "### Data Preprocessing"
   ]
  },
  {
   "cell_type": "markdown",
   "id": "c31ce6b7-63d8-42de-8a01-c59871a639af",
   "metadata": {},
   "source": [
    "### Training image preprocessing"
   ]
  },
  {
   "cell_type": "code",
   "execution_count": 4,
   "id": "36a35bee-4d7c-45af-a9c3-16e9dace331a",
   "metadata": {},
   "outputs": [
    {
     "name": "stdout",
     "output_type": "stream",
     "text": [
      "Found 70295 files belonging to 38 classes.\n"
     ]
    }
   ],
   "source": [
    "#we use the keras library for preprocessing loding the image to neural networkk\n",
    "training_set= tf.keras.utils.image_dataset_from_directory(\n",
    "    \"train\", #where the data is located\n",
    "    labels=\"inferred\",#Saying to TensorFlow go inside my train and give the name as that directory\n",
    "    label_mode=\"categorical\", #i use 38 class so i used categorical\n",
    "    class_names=None,\n",
    "    color_mode=\"rgb\",\n",
    "    batch_size=32, #fast we can change that 64\n",
    "    image_size=(128, 128),\n",
    "    shuffle=True,#it will reduces the baias of model when we shuffel i will learn from every type\n",
    "    seed=None,\n",
    "    validation_split=None,\n",
    "    subset=None,\n",
    "    interpolation=\"bilinear\",\n",
    "    follow_links=False,\n",
    "    crop_to_aspect_ratio=False,\n",
    "    pad_to_aspect_ratio=False,\n",
    "    verbose=True,\n",
    ")"
   ]
  },
  {
   "cell_type": "code",
   "execution_count": 5,
   "id": "fa4ae9cf-bbb1-4c37-a734-3785362dca75",
   "metadata": {},
   "outputs": [
    {
     "name": "stdout",
     "output_type": "stream",
     "text": [
      "['Apple___Apple_scab', 'Apple___Black_rot', 'Apple___Cedar_apple_rust', 'Apple___healthy', 'Blueberry___healthy', 'Cherry_(including_sour)___healthy', 'Cherry_(including_sour)___Powdery_mildew', 'Corn_(maize)___Cercospora_leaf_spot Gray_leaf_spot', 'Corn_(maize)___Common_rust_', 'Corn_(maize)___healthy', 'Corn_(maize)___Northern_Leaf_Blight', 'Grape___Black_rot', 'Grape___Esca_(Black_Measles)', 'Grape___healthy', 'Grape___Leaf_blight_(Isariopsis_Leaf_Spot)', 'Orange___Haunglongbing_(Citrus_greening)', 'Peach___Bacterial_spot', 'Peach___healthy', 'Pepper,_bell___Bacterial_spot', 'Pepper,_bell___healthy', 'Potato___Early_blight', 'Potato___healthy', 'Potato___Late_blight', 'Raspberry___healthy', 'Soybean___healthy', 'Squash___Powdery_mildew', 'Strawberry___healthy', 'Strawberry___Leaf_scorch', 'Tomato___Bacterial_spot', 'Tomato___Early_blight', 'Tomato___healthy', 'Tomato___Late_blight', 'Tomato___Leaf_Mold', 'Tomato___Septoria_leaf_spot', 'Tomato___Spider_mites Two-spotted_spider_mite', 'Tomato___Target_Spot', 'Tomato___Tomato_mosaic_virus', 'Tomato___Tomato_Yellow_Leaf_Curl_Virus']\n"
     ]
    }
   ],
   "source": [
    "import os\n",
    "print(os.listdir(\"train\"))  # Should list all category folders\n"
   ]
  },
  {
   "cell_type": "code",
   "execution_count": 6,
   "id": "8d786b49-fd6b-40f5-80eb-c2d40f2cb148",
   "metadata": {},
   "outputs": [
    {
     "name": "stdout",
     "output_type": "stream",
     "text": [
      "Found 17572 files belonging to 38 classes.\n"
     ]
    }
   ],
   "source": [
    "validation_set = tf.keras.utils.image_dataset_from_directory(\n",
    "    \"valid\",  # This is correct because your notebook is already in the parent folder\n",
    "    labels=\"inferred\",\n",
    "    label_mode=\"categorical\",\n",
    "    class_names=None,\n",
    "    color_mode=\"rgb\",\n",
    "    batch_size=32,\n",
    "    image_size=(128, 128),\n",
    "    shuffle=True,\n",
    "    seed=None,\n",
    "    validation_split=None,\n",
    "    subset=None,\n",
    "    interpolation=\"bilinear\",\n",
    "    follow_links=False,\n",
    "    crop_to_aspect_ratio=False,\n",
    "    pad_to_aspect_ratio=False,\n",
    ")\n"
   ]
  },
  {
   "cell_type": "code",
   "execution_count": 7,
   "id": "fabcfa90-cfc1-4bdd-b0c0-489c6126288e",
   "metadata": {},
   "outputs": [
    {
     "data": {
      "text/plain": [
       "<_PrefetchDataset element_spec=(TensorSpec(shape=(None, 128, 128, 3), dtype=tf.float32, name=None), TensorSpec(shape=(None, 38), dtype=tf.float32, name=None))>"
      ]
     },
     "execution_count": 7,
     "metadata": {},
     "output_type": "execute_result"
    }
   ],
   "source": [
    "training_set"
   ]
  },
  {
   "cell_type": "code",
   "execution_count": 8,
   "id": "cd172fba-b654-4ae6-a051-a14048d3ee5f",
   "metadata": {},
   "outputs": [
    {
     "name": "stdout",
     "output_type": "stream",
     "text": [
      "tf.Tensor(\n",
      "[[[[255.   255.   255.  ]\n",
      "   [255.   255.   255.  ]\n",
      "   [255.   255.   255.  ]\n",
      "   ...\n",
      "   [255.   255.   255.  ]\n",
      "   [255.   255.   255.  ]\n",
      "   [255.   255.   255.  ]]\n",
      "\n",
      "  [[255.   255.   255.  ]\n",
      "   [255.   255.   255.  ]\n",
      "   [255.   255.   255.  ]\n",
      "   ...\n",
      "   [255.   255.   255.  ]\n",
      "   [255.   255.   255.  ]\n",
      "   [255.   255.   255.  ]]\n",
      "\n",
      "  [[255.   255.   255.  ]\n",
      "   [255.   255.   255.  ]\n",
      "   [255.   255.   255.  ]\n",
      "   ...\n",
      "   [255.   255.   255.  ]\n",
      "   [255.   255.   255.  ]\n",
      "   [255.   255.   255.  ]]\n",
      "\n",
      "  ...\n",
      "\n",
      "  [[248.   234.5  248.  ]\n",
      "   [241.25 230.   241.25]\n",
      "   [253.25 246.25 253.  ]\n",
      "   ...\n",
      "   [233.75 225.25 234.75]\n",
      "   [240.25 233.25 240.75]\n",
      "   [246.   235.75 247.  ]]\n",
      "\n",
      "  [[244.   230.5  244.25]\n",
      "   [248.75 236.75 249.  ]\n",
      "   [251.   243.25 250.25]\n",
      "   ...\n",
      "   [227.   217.5  228.  ]\n",
      "   [243.5  232.25 243.5 ]\n",
      "   [254.25 246.25 254.  ]]\n",
      "\n",
      "  [[253.25 237.   253.75]\n",
      "   [255.   241.5  255.  ]\n",
      "   [251.5  243.5  251.25]\n",
      "   ...\n",
      "   [253.75 245.75 253.75]\n",
      "   [235.5  225.25 235.5 ]\n",
      "   [247.5  235.   247.  ]]]\n",
      "\n",
      "\n",
      " [[[ 90.5   81.5   75.25]\n",
      "   [172.5  162.5  153.5 ]\n",
      "   [176.75 161.75 154.75]\n",
      "   ...\n",
      "   [185.5  171.5  168.5 ]\n",
      "   [192.75 178.75 175.75]\n",
      "   [197.25 183.25 180.25]]\n",
      "\n",
      "  [[ 83.    75.    70.5 ]\n",
      "   [171.   161.   152.  ]\n",
      "   [178.25 163.25 156.25]\n",
      "   ...\n",
      "   [187.   173.   170.  ]\n",
      "   [199.5  185.5  182.5 ]\n",
      "   [181.25 167.25 164.25]]\n",
      "\n",
      "  [[ 90.25  81.5   76.25]\n",
      "   [178.25 168.25 159.25]\n",
      "   [168.   153.   146.  ]\n",
      "   ...\n",
      "   [189.   175.   172.  ]\n",
      "   [176.   162.   159.  ]\n",
      "   [184.   170.   167.  ]]\n",
      "\n",
      "  ...\n",
      "\n",
      "  [[ 84.    75.25  70.75]\n",
      "   [179.25 169.25 160.25]\n",
      "   [174.   159.   152.  ]\n",
      "   ...\n",
      "   [173.   162.   158.  ]\n",
      "   [175.75 164.75 160.75]\n",
      "   [199.25 188.25 184.25]]\n",
      "\n",
      "  [[ 80.75  72.75  68.25]\n",
      "   [175.   165.   156.  ]\n",
      "   [169.   154.   147.  ]\n",
      "   ...\n",
      "   [179.5  168.5  164.5 ]\n",
      "   [180.75 169.75 165.75]\n",
      "   [195.   184.   180.  ]]\n",
      "\n",
      "  [[ 92.    83.5   77.75]\n",
      "   [171.   161.   152.  ]\n",
      "   [174.5  159.5  152.5 ]\n",
      "   ...\n",
      "   [179.25 168.25 164.25]\n",
      "   [172.75 161.75 157.75]\n",
      "   [175.25 164.25 160.25]]]\n",
      "\n",
      "\n",
      " [[[ 88.5   79.75  84.5 ]\n",
      "   [143.75 134.75 139.75]\n",
      "   [149.25 140.25 145.25]\n",
      "   ...\n",
      "   [127.5  117.5  118.5 ]\n",
      "   [120.   109.   113.  ]\n",
      "   [129.   118.   122.  ]]\n",
      "\n",
      "  [[ 79.    71.    75.  ]\n",
      "   [147.25 138.25 143.25]\n",
      "   [149.75 140.75 145.75]\n",
      "   ...\n",
      "   [122.25 112.25 113.25]\n",
      "   [118.5  107.5  111.5 ]\n",
      "   [118.5  107.5  111.5 ]]\n",
      "\n",
      "  [[ 83.    74.75  79.  ]\n",
      "   [150.75 141.75 146.75]\n",
      "   [144.5  135.5  140.5 ]\n",
      "   ...\n",
      "   [125.25 115.25 116.25]\n",
      "   [124.   113.   117.  ]\n",
      "   [116.75 105.75 109.75]]\n",
      "\n",
      "  ...\n",
      "\n",
      "  [[ 94.    88.    97.  ]\n",
      "   [179.   171.75 180.5 ]\n",
      "   [177.5  170.75 177.  ]\n",
      "   ...\n",
      "   [191.25 195.25 194.25]\n",
      "   [205.   209.   208.  ]\n",
      "   [204.5  208.5  207.5 ]]\n",
      "\n",
      "  [[ 94.25  88.25  98.75]\n",
      "   [179.5  172.   181.5 ]\n",
      "   [178.   171.5  176.5 ]\n",
      "   ...\n",
      "   [210.   214.   213.  ]\n",
      "   [204.75 208.75 207.75]\n",
      "   [199.75 203.75 202.75]]\n",
      "\n",
      "  [[ 92.    86.    98.  ]\n",
      "   [175.   167.5  177.5 ]\n",
      "   [173.5  167.   171.5 ]\n",
      "   ...\n",
      "   [212.25 216.25 215.25]\n",
      "   [205.25 209.25 208.25]\n",
      "   [211.5  215.5  214.5 ]]]\n",
      "\n",
      "\n",
      " ...\n",
      "\n",
      "\n",
      " [[[ 80.    72.25  92.  ]\n",
      "   [159.   149.   170.75]\n",
      "   [145.5  134.5  164.5 ]\n",
      "   ...\n",
      "   [152.5  138.5  161.5 ]\n",
      "   [162.   148.   171.  ]\n",
      "   [144.   130.   153.  ]]\n",
      "\n",
      "  [[ 82.25  74.75  94.25]\n",
      "   [115.75 105.75 130.75]\n",
      "   [112.25 101.25 131.25]\n",
      "   ...\n",
      "   [123.25 109.25 132.25]\n",
      "   [139.25 125.25 148.25]\n",
      "   [168.5  154.5  177.5 ]]\n",
      "\n",
      "  [[ 59.5   51.    71.5 ]\n",
      "   [110.   100.   125.  ]\n",
      "   [146.   135.   165.  ]\n",
      "   ...\n",
      "   [159.5  145.5  168.5 ]\n",
      "   [150.   136.   159.  ]\n",
      "   [154.75 140.75 163.75]]\n",
      "\n",
      "  ...\n",
      "\n",
      "  [[ 87.25  84.25 102.25]\n",
      "   [159.75 154.75 177.75]\n",
      "   [158.25 152.25 180.25]\n",
      "   ...\n",
      "   [181.5  177.5  192.5 ]\n",
      "   [188.75 184.75 199.75]\n",
      "   [198.   194.   209.  ]]\n",
      "\n",
      "  [[ 84.5   81.5   99.5 ]\n",
      "   [157.25 152.25 175.25]\n",
      "   [166.   160.   188.  ]\n",
      "   ...\n",
      "   [189.5  185.5  200.5 ]\n",
      "   [191.75 187.75 202.75]\n",
      "   [197.   193.   208.  ]]\n",
      "\n",
      "  [[ 85.    82.   100.  ]\n",
      "   [160.   155.   178.  ]\n",
      "   [170.25 164.25 192.25]\n",
      "   ...\n",
      "   [205.25 201.25 216.25]\n",
      "   [194.5  190.5  205.5 ]\n",
      "   [200.   196.   211.  ]]]\n",
      "\n",
      "\n",
      " [[[142.5  130.5  134.5 ]\n",
      "   [139.   127.   131.  ]\n",
      "   [130.75 118.75 122.75]\n",
      "   ...\n",
      "   [137.   123.   123.  ]\n",
      "   [142.75 128.75 128.75]\n",
      "   [146.75 132.75 132.75]]\n",
      "\n",
      "  [[138.   126.   130.  ]\n",
      "   [134.75 122.75 126.75]\n",
      "   [134.25 122.25 126.25]\n",
      "   ...\n",
      "   [129.25 115.25 115.25]\n",
      "   [144.   130.   130.  ]\n",
      "   [132.5  118.5  118.5 ]]\n",
      "\n",
      "  [[141.75 129.75 133.75]\n",
      "   [133.   121.   125.  ]\n",
      "   [138.25 126.25 130.25]\n",
      "   ...\n",
      "   [148.75 134.75 134.75]\n",
      "   [135.25 121.25 121.25]\n",
      "   [139.   125.   125.  ]]\n",
      "\n",
      "  ...\n",
      "\n",
      "  [[178.5  169.5  174.5 ]\n",
      "   [175.75 166.75 171.75]\n",
      "   [187.5  178.5  183.5 ]\n",
      "   ...\n",
      "   [195.5  186.5  189.5 ]\n",
      "   [194.   185.   188.  ]\n",
      "   [187.   178.   181.  ]]\n",
      "\n",
      "  [[174.5  165.5  170.5 ]\n",
      "   [183.   174.   179.  ]\n",
      "   [178.5  169.5  174.5 ]\n",
      "   ...\n",
      "   [192.25 183.25 186.25]\n",
      "   [187.5  178.5  181.5 ]\n",
      "   [185.   176.   179.  ]]\n",
      "\n",
      "  [[182.   173.   178.  ]\n",
      "   [172.75 163.75 168.75]\n",
      "   [178.75 169.75 174.75]\n",
      "   ...\n",
      "   [188.   179.   182.  ]\n",
      "   [181.5  172.5  175.5 ]\n",
      "   [188.5  179.5  182.5 ]]]\n",
      "\n",
      "\n",
      " [[[  0.     0.     0.  ]\n",
      "   [  0.     0.     0.  ]\n",
      "   [  0.     0.     0.  ]\n",
      "   ...\n",
      "   [  0.     0.     0.  ]\n",
      "   [  0.     0.     0.  ]\n",
      "   [  0.     0.     0.  ]]\n",
      "\n",
      "  [[  0.     0.     0.  ]\n",
      "   [  0.     0.     0.  ]\n",
      "   [  0.     0.     0.  ]\n",
      "   ...\n",
      "   [  0.     0.     0.  ]\n",
      "   [  0.     0.     0.  ]\n",
      "   [  0.     0.     0.  ]]\n",
      "\n",
      "  [[  0.     0.     0.  ]\n",
      "   [  0.     0.     0.  ]\n",
      "   [  0.     0.     0.  ]\n",
      "   ...\n",
      "   [  0.     0.     0.  ]\n",
      "   [  0.     0.     0.  ]\n",
      "   [  0.     0.     0.  ]]\n",
      "\n",
      "  ...\n",
      "\n",
      "  [[  0.     0.     0.  ]\n",
      "   [  0.     0.     0.  ]\n",
      "   [  0.     0.     0.  ]\n",
      "   ...\n",
      "   [  0.     0.     0.  ]\n",
      "   [  0.     0.     0.  ]\n",
      "   [  0.     0.     0.  ]]\n",
      "\n",
      "  [[  0.     0.     0.  ]\n",
      "   [  0.     0.     0.  ]\n",
      "   [  0.     0.     0.  ]\n",
      "   ...\n",
      "   [  0.     0.     0.  ]\n",
      "   [  0.     0.     0.  ]\n",
      "   [  0.     0.     0.  ]]\n",
      "\n",
      "  [[  0.     0.     0.  ]\n",
      "   [  0.     0.     0.  ]\n",
      "   [  0.     0.     0.  ]\n",
      "   ...\n",
      "   [  0.     0.     0.  ]\n",
      "   [  0.     0.     0.  ]\n",
      "   [  0.     0.     0.  ]]]], shape=(32, 128, 128, 3), dtype=float32) (32, 128, 128, 3)\n",
      "tf.Tensor(\n",
      "[[0. 0. 0. ... 0. 0. 0.]\n",
      " [0. 0. 0. ... 0. 0. 0.]\n",
      " [0. 0. 0. ... 0. 0. 0.]\n",
      " ...\n",
      " [0. 1. 0. ... 0. 0. 0.]\n",
      " [0. 0. 0. ... 0. 0. 0.]\n",
      " [0. 0. 0. ... 0. 0. 0.]], shape=(32, 38), dtype=float32) (32, 38)\n"
     ]
    }
   ],
   "source": [
    "for x,y in training_set: #to see the strecture of training set \n",
    "    print(x,x.shape)#it will say that at time we train 32 examples because i gave the batch name as the 32 so ondu sala adu 32 training example koduthe\n",
    "    print(y,y.shape)\n",
    "    break"
   ]
  },
  {
   "cell_type": "markdown",
   "id": "becb31f1-c958-4659-a0aa-3fff212db691",
   "metadata": {},
   "source": [
    "## Cnn we use to detecting the disease"
   ]
  },
  {
   "cell_type": "markdown",
   "id": "2a23786f-18c3-4872-b435-15b610ea83ea",
   "metadata": {},
   "source": [
    "## To avoid Overshooting\n",
    "1.Choose small learning rate default 0.0001 we are taking 0,0001\n",
    "2.There may be a chance of under fitting so increase number of neuron\n",
    "3.Add  more conv layer to extract more feature from images may be possible of that unable to capture relevent feature or model is confusing due to lack of feature so feed with more feature "
   ]
  },
  {
   "cell_type": "markdown",
   "id": "a6a364de-84a4-483e-9e72-353351285201",
   "metadata": {},
   "source": [
    "## Building  Model"
   ]
  },
  {
   "cell_type": "code",
   "execution_count": 9,
   "id": "961ee390-b9dc-46aa-84f1-18d6cf4290d2",
   "metadata": {},
   "outputs": [],
   "source": [
    "from tensorflow.keras.layers import Dense,Conv2D,MaxPool2D,Dropout\n",
    "from tensorflow.keras.models import Sequential"
   ]
  },
  {
   "cell_type": "code",
   "execution_count": 10,
   "id": "b69103d5-c669-4e8a-8c39-8e5e35459e57",
   "metadata": {},
   "outputs": [],
   "source": [
    "model = Sequential() #this is model"
   ]
  },
  {
   "cell_type": "code",
   "execution_count": 11,
   "id": "2f9fa310-3edd-4e9f-b561-a8bff1feb14d",
   "metadata": {},
   "outputs": [],
   "source": [
    "# building convolution layer "
   ]
  },
  {
   "cell_type": "code",
   "execution_count": 12,
   "id": "42128dd7-9a59-4907-9b6c-eed9818036da",
   "metadata": {},
   "outputs": [
    {
     "name": "stderr",
     "output_type": "stream",
     "text": [
      "C:\\Users\\varsh\\.conda\\anaconda\\envs\\tensorflow_env\\lib\\site-packages\\keras\\src\\layers\\convolutional\\base_conv.py:113: UserWarning: Do not pass an `input_shape`/`input_dim` argument to a layer. When using Sequential models, prefer using an `Input(shape)` object as the first layer in the model instead.\n",
      "  super().__init__(activity_regularizer=activity_regularizer, **kwargs)\n"
     ]
    }
   ],
   "source": [
    "model.add(Conv2D(filters=32, kernel_size=3, padding='same', activation='relu', input_shape=(128, 128, 3)))\n",
    "model.add(Conv2D(filters=32, kernel_size=3, activation='relu'))\n",
    "model.add(MaxPool2D(pool_size=2, strides=2))  #add the first convolution layer filter are creating the feature map"
   ]
  },
  {
   "cell_type": "code",
   "execution_count": 13,
   "id": "98355ac7-8876-419d-8f1e-55d4020850a0",
   "metadata": {},
   "outputs": [],
   "source": [
    "model.add(Conv2D(filters=64,kernel_size=3,padding='same',activation='relu',))\n",
    "model.add(Conv2D(filters=64,kernel_size=3,activation='relu'))\n",
    "model.add(MaxPool2D(pool_size=2,strides=2))"
   ]
  },
  {
   "cell_type": "code",
   "execution_count": 14,
   "id": "2de1cab3-cb69-4b6b-a870-783b8d118726",
   "metadata": {},
   "outputs": [],
   "source": [
    "model.add(Conv2D(filters=128,kernel_size=3,padding='same',activation='relu',))\n",
    "model.add(Conv2D(filters=128,kernel_size=3,activation='relu'))\n",
    "model.add(MaxPool2D(pool_size=2,strides=2))"
   ]
  },
  {
   "cell_type": "code",
   "execution_count": 15,
   "id": "83d46587-aea7-420c-99b0-f6dfcef71312",
   "metadata": {},
   "outputs": [],
   "source": [
    "model.add(Conv2D(filters=512,kernel_size=3,padding='same',activation='relu',))\n",
    "model.add(Conv2D(filters=512,kernel_size=3,activation='relu'))\n",
    "model.add(MaxPool2D(pool_size=2,strides=2))"
   ]
  },
  {
   "cell_type": "code",
   "execution_count": 16,
   "id": "b29155f6-8bc1-44b3-af23-e22baa5199b6",
   "metadata": {},
   "outputs": [],
   "source": [
    "model.add(Dropout(0,25))#drop some of the neurons"
   ]
  },
  {
   "cell_type": "code",
   "execution_count": 17,
   "id": "b8766387-d4ff-468c-9bd9-c8a4cdff769b",
   "metadata": {},
   "outputs": [],
   "source": [
    "#flattening operation\n",
    "from tensorflow.keras.layers import Flatten\n",
    "model.add(Flatten())"
   ]
  },
  {
   "cell_type": "code",
   "execution_count": 18,
   "id": "fd21419d-f6c8-487d-92c5-83fbd96901eb",
   "metadata": {},
   "outputs": [],
   "source": [
    "model.add(Dense(units=1500,activation='relu'))"
   ]
  },
  {
   "cell_type": "code",
   "execution_count": 19,
   "id": "81341236-8cd7-40c2-aafc-ffda6aec9a6f",
   "metadata": {},
   "outputs": [],
   "source": [
    "model.add(Dropout(0.4))#avoid overfitting"
   ]
  },
  {
   "cell_type": "code",
   "execution_count": 20,
   "id": "abb5d286-639a-4346-b7d4-e0c589b9081c",
   "metadata": {},
   "outputs": [],
   "source": [
    "#output layer\n",
    "model.add(Dense(units=38,activation='softmax'))#softmax function is used for the  give the output inthe form of the accuracy"
   ]
  },
  {
   "cell_type": "markdown",
   "id": "0fcc0b05-03be-4afd-9d40-4663c03c1153",
   "metadata": {},
   "source": [
    "## Compiling Model"
   ]
  },
  {
   "cell_type": "code",
   "execution_count": 21,
   "id": "eff681d7-686b-456b-9807-20d00e716af4",
   "metadata": {},
   "outputs": [],
   "source": [
    "model.compile(optimizer= tf.keras.optimizers.Adam(\n",
    "    learning_rate=0.0001),loss='categorical_crossentropy',metrics=['accuracy'])"
   ]
  },
  {
   "cell_type": "code",
   "execution_count": 22,
   "id": "bbe083e0-e439-4e4b-83e5-2a1120f6ea7f",
   "metadata": {},
   "outputs": [
    {
     "data": {
      "text/html": [
       "<pre style=\"white-space:pre;overflow-x:auto;line-height:normal;font-family:Menlo,'DejaVu Sans Mono',consolas,'Courier New',monospace\"><span style=\"font-weight: bold\">Model: \"sequential\"</span>\n",
       "</pre>\n"
      ],
      "text/plain": [
       "\u001b[1mModel: \"sequential\"\u001b[0m\n"
      ]
     },
     "metadata": {},
     "output_type": "display_data"
    },
    {
     "data": {
      "text/html": [
       "<pre style=\"white-space:pre;overflow-x:auto;line-height:normal;font-family:Menlo,'DejaVu Sans Mono',consolas,'Courier New',monospace\">┏━━━━━━━━━━━━━━━━━━━━━━━━━━━━━━━━━━━━━━┳━━━━━━━━━━━━━━━━━━━━━━━━━━━━━┳━━━━━━━━━━━━━━━━━┓\n",
       "┃<span style=\"font-weight: bold\"> Layer (type)                         </span>┃<span style=\"font-weight: bold\"> Output Shape                </span>┃<span style=\"font-weight: bold\">         Param # </span>┃\n",
       "┡━━━━━━━━━━━━━━━━━━━━━━━━━━━━━━━━━━━━━━╇━━━━━━━━━━━━━━━━━━━━━━━━━━━━━╇━━━━━━━━━━━━━━━━━┩\n",
       "│ conv2d (<span style=\"color: #0087ff; text-decoration-color: #0087ff\">Conv2D</span>)                      │ (<span style=\"color: #00d7ff; text-decoration-color: #00d7ff\">None</span>, <span style=\"color: #00af00; text-decoration-color: #00af00\">128</span>, <span style=\"color: #00af00; text-decoration-color: #00af00\">128</span>, <span style=\"color: #00af00; text-decoration-color: #00af00\">32</span>)        │             <span style=\"color: #00af00; text-decoration-color: #00af00\">896</span> │\n",
       "├──────────────────────────────────────┼─────────────────────────────┼─────────────────┤\n",
       "│ conv2d_1 (<span style=\"color: #0087ff; text-decoration-color: #0087ff\">Conv2D</span>)                    │ (<span style=\"color: #00d7ff; text-decoration-color: #00d7ff\">None</span>, <span style=\"color: #00af00; text-decoration-color: #00af00\">126</span>, <span style=\"color: #00af00; text-decoration-color: #00af00\">126</span>, <span style=\"color: #00af00; text-decoration-color: #00af00\">32</span>)        │           <span style=\"color: #00af00; text-decoration-color: #00af00\">9,248</span> │\n",
       "├──────────────────────────────────────┼─────────────────────────────┼─────────────────┤\n",
       "│ max_pooling2d (<span style=\"color: #0087ff; text-decoration-color: #0087ff\">MaxPooling2D</span>)         │ (<span style=\"color: #00d7ff; text-decoration-color: #00d7ff\">None</span>, <span style=\"color: #00af00; text-decoration-color: #00af00\">63</span>, <span style=\"color: #00af00; text-decoration-color: #00af00\">63</span>, <span style=\"color: #00af00; text-decoration-color: #00af00\">32</span>)          │               <span style=\"color: #00af00; text-decoration-color: #00af00\">0</span> │\n",
       "├──────────────────────────────────────┼─────────────────────────────┼─────────────────┤\n",
       "│ conv2d_2 (<span style=\"color: #0087ff; text-decoration-color: #0087ff\">Conv2D</span>)                    │ (<span style=\"color: #00d7ff; text-decoration-color: #00d7ff\">None</span>, <span style=\"color: #00af00; text-decoration-color: #00af00\">63</span>, <span style=\"color: #00af00; text-decoration-color: #00af00\">63</span>, <span style=\"color: #00af00; text-decoration-color: #00af00\">64</span>)          │          <span style=\"color: #00af00; text-decoration-color: #00af00\">18,496</span> │\n",
       "├──────────────────────────────────────┼─────────────────────────────┼─────────────────┤\n",
       "│ conv2d_3 (<span style=\"color: #0087ff; text-decoration-color: #0087ff\">Conv2D</span>)                    │ (<span style=\"color: #00d7ff; text-decoration-color: #00d7ff\">None</span>, <span style=\"color: #00af00; text-decoration-color: #00af00\">61</span>, <span style=\"color: #00af00; text-decoration-color: #00af00\">61</span>, <span style=\"color: #00af00; text-decoration-color: #00af00\">64</span>)          │          <span style=\"color: #00af00; text-decoration-color: #00af00\">36,928</span> │\n",
       "├──────────────────────────────────────┼─────────────────────────────┼─────────────────┤\n",
       "│ max_pooling2d_1 (<span style=\"color: #0087ff; text-decoration-color: #0087ff\">MaxPooling2D</span>)       │ (<span style=\"color: #00d7ff; text-decoration-color: #00d7ff\">None</span>, <span style=\"color: #00af00; text-decoration-color: #00af00\">30</span>, <span style=\"color: #00af00; text-decoration-color: #00af00\">30</span>, <span style=\"color: #00af00; text-decoration-color: #00af00\">64</span>)          │               <span style=\"color: #00af00; text-decoration-color: #00af00\">0</span> │\n",
       "├──────────────────────────────────────┼─────────────────────────────┼─────────────────┤\n",
       "│ conv2d_4 (<span style=\"color: #0087ff; text-decoration-color: #0087ff\">Conv2D</span>)                    │ (<span style=\"color: #00d7ff; text-decoration-color: #00d7ff\">None</span>, <span style=\"color: #00af00; text-decoration-color: #00af00\">30</span>, <span style=\"color: #00af00; text-decoration-color: #00af00\">30</span>, <span style=\"color: #00af00; text-decoration-color: #00af00\">128</span>)         │          <span style=\"color: #00af00; text-decoration-color: #00af00\">73,856</span> │\n",
       "├──────────────────────────────────────┼─────────────────────────────┼─────────────────┤\n",
       "│ conv2d_5 (<span style=\"color: #0087ff; text-decoration-color: #0087ff\">Conv2D</span>)                    │ (<span style=\"color: #00d7ff; text-decoration-color: #00d7ff\">None</span>, <span style=\"color: #00af00; text-decoration-color: #00af00\">28</span>, <span style=\"color: #00af00; text-decoration-color: #00af00\">28</span>, <span style=\"color: #00af00; text-decoration-color: #00af00\">128</span>)         │         <span style=\"color: #00af00; text-decoration-color: #00af00\">147,584</span> │\n",
       "├──────────────────────────────────────┼─────────────────────────────┼─────────────────┤\n",
       "│ max_pooling2d_2 (<span style=\"color: #0087ff; text-decoration-color: #0087ff\">MaxPooling2D</span>)       │ (<span style=\"color: #00d7ff; text-decoration-color: #00d7ff\">None</span>, <span style=\"color: #00af00; text-decoration-color: #00af00\">14</span>, <span style=\"color: #00af00; text-decoration-color: #00af00\">14</span>, <span style=\"color: #00af00; text-decoration-color: #00af00\">128</span>)         │               <span style=\"color: #00af00; text-decoration-color: #00af00\">0</span> │\n",
       "├──────────────────────────────────────┼─────────────────────────────┼─────────────────┤\n",
       "│ conv2d_6 (<span style=\"color: #0087ff; text-decoration-color: #0087ff\">Conv2D</span>)                    │ (<span style=\"color: #00d7ff; text-decoration-color: #00d7ff\">None</span>, <span style=\"color: #00af00; text-decoration-color: #00af00\">14</span>, <span style=\"color: #00af00; text-decoration-color: #00af00\">14</span>, <span style=\"color: #00af00; text-decoration-color: #00af00\">512</span>)         │         <span style=\"color: #00af00; text-decoration-color: #00af00\">590,336</span> │\n",
       "├──────────────────────────────────────┼─────────────────────────────┼─────────────────┤\n",
       "│ conv2d_7 (<span style=\"color: #0087ff; text-decoration-color: #0087ff\">Conv2D</span>)                    │ (<span style=\"color: #00d7ff; text-decoration-color: #00d7ff\">None</span>, <span style=\"color: #00af00; text-decoration-color: #00af00\">12</span>, <span style=\"color: #00af00; text-decoration-color: #00af00\">12</span>, <span style=\"color: #00af00; text-decoration-color: #00af00\">512</span>)         │       <span style=\"color: #00af00; text-decoration-color: #00af00\">2,359,808</span> │\n",
       "├──────────────────────────────────────┼─────────────────────────────┼─────────────────┤\n",
       "│ max_pooling2d_3 (<span style=\"color: #0087ff; text-decoration-color: #0087ff\">MaxPooling2D</span>)       │ (<span style=\"color: #00d7ff; text-decoration-color: #00d7ff\">None</span>, <span style=\"color: #00af00; text-decoration-color: #00af00\">6</span>, <span style=\"color: #00af00; text-decoration-color: #00af00\">6</span>, <span style=\"color: #00af00; text-decoration-color: #00af00\">512</span>)           │               <span style=\"color: #00af00; text-decoration-color: #00af00\">0</span> │\n",
       "├──────────────────────────────────────┼─────────────────────────────┼─────────────────┤\n",
       "│ dropout (<span style=\"color: #0087ff; text-decoration-color: #0087ff\">Dropout</span>)                    │ (<span style=\"color: #00d7ff; text-decoration-color: #00d7ff\">None</span>, <span style=\"color: #00af00; text-decoration-color: #00af00\">6</span>, <span style=\"color: #00af00; text-decoration-color: #00af00\">6</span>, <span style=\"color: #00af00; text-decoration-color: #00af00\">512</span>)           │               <span style=\"color: #00af00; text-decoration-color: #00af00\">0</span> │\n",
       "├──────────────────────────────────────┼─────────────────────────────┼─────────────────┤\n",
       "│ flatten (<span style=\"color: #0087ff; text-decoration-color: #0087ff\">Flatten</span>)                    │ (<span style=\"color: #00d7ff; text-decoration-color: #00d7ff\">None</span>, <span style=\"color: #00af00; text-decoration-color: #00af00\">18432</span>)               │               <span style=\"color: #00af00; text-decoration-color: #00af00\">0</span> │\n",
       "├──────────────────────────────────────┼─────────────────────────────┼─────────────────┤\n",
       "│ dense (<span style=\"color: #0087ff; text-decoration-color: #0087ff\">Dense</span>)                        │ (<span style=\"color: #00d7ff; text-decoration-color: #00d7ff\">None</span>, <span style=\"color: #00af00; text-decoration-color: #00af00\">1500</span>)                │      <span style=\"color: #00af00; text-decoration-color: #00af00\">27,649,500</span> │\n",
       "├──────────────────────────────────────┼─────────────────────────────┼─────────────────┤\n",
       "│ dropout_1 (<span style=\"color: #0087ff; text-decoration-color: #0087ff\">Dropout</span>)                  │ (<span style=\"color: #00d7ff; text-decoration-color: #00d7ff\">None</span>, <span style=\"color: #00af00; text-decoration-color: #00af00\">1500</span>)                │               <span style=\"color: #00af00; text-decoration-color: #00af00\">0</span> │\n",
       "├──────────────────────────────────────┼─────────────────────────────┼─────────────────┤\n",
       "│ dense_1 (<span style=\"color: #0087ff; text-decoration-color: #0087ff\">Dense</span>)                      │ (<span style=\"color: #00d7ff; text-decoration-color: #00d7ff\">None</span>, <span style=\"color: #00af00; text-decoration-color: #00af00\">38</span>)                  │          <span style=\"color: #00af00; text-decoration-color: #00af00\">57,038</span> │\n",
       "└──────────────────────────────────────┴─────────────────────────────┴─────────────────┘\n",
       "</pre>\n"
      ],
      "text/plain": [
       "┏━━━━━━━━━━━━━━━━━━━━━━━━━━━━━━━━━━━━━━┳━━━━━━━━━━━━━━━━━━━━━━━━━━━━━┳━━━━━━━━━━━━━━━━━┓\n",
       "┃\u001b[1m \u001b[0m\u001b[1mLayer (type)                        \u001b[0m\u001b[1m \u001b[0m┃\u001b[1m \u001b[0m\u001b[1mOutput Shape               \u001b[0m\u001b[1m \u001b[0m┃\u001b[1m \u001b[0m\u001b[1m        Param #\u001b[0m\u001b[1m \u001b[0m┃\n",
       "┡━━━━━━━━━━━━━━━━━━━━━━━━━━━━━━━━━━━━━━╇━━━━━━━━━━━━━━━━━━━━━━━━━━━━━╇━━━━━━━━━━━━━━━━━┩\n",
       "│ conv2d (\u001b[38;5;33mConv2D\u001b[0m)                      │ (\u001b[38;5;45mNone\u001b[0m, \u001b[38;5;34m128\u001b[0m, \u001b[38;5;34m128\u001b[0m, \u001b[38;5;34m32\u001b[0m)        │             \u001b[38;5;34m896\u001b[0m │\n",
       "├──────────────────────────────────────┼─────────────────────────────┼─────────────────┤\n",
       "│ conv2d_1 (\u001b[38;5;33mConv2D\u001b[0m)                    │ (\u001b[38;5;45mNone\u001b[0m, \u001b[38;5;34m126\u001b[0m, \u001b[38;5;34m126\u001b[0m, \u001b[38;5;34m32\u001b[0m)        │           \u001b[38;5;34m9,248\u001b[0m │\n",
       "├──────────────────────────────────────┼─────────────────────────────┼─────────────────┤\n",
       "│ max_pooling2d (\u001b[38;5;33mMaxPooling2D\u001b[0m)         │ (\u001b[38;5;45mNone\u001b[0m, \u001b[38;5;34m63\u001b[0m, \u001b[38;5;34m63\u001b[0m, \u001b[38;5;34m32\u001b[0m)          │               \u001b[38;5;34m0\u001b[0m │\n",
       "├──────────────────────────────────────┼─────────────────────────────┼─────────────────┤\n",
       "│ conv2d_2 (\u001b[38;5;33mConv2D\u001b[0m)                    │ (\u001b[38;5;45mNone\u001b[0m, \u001b[38;5;34m63\u001b[0m, \u001b[38;5;34m63\u001b[0m, \u001b[38;5;34m64\u001b[0m)          │          \u001b[38;5;34m18,496\u001b[0m │\n",
       "├──────────────────────────────────────┼─────────────────────────────┼─────────────────┤\n",
       "│ conv2d_3 (\u001b[38;5;33mConv2D\u001b[0m)                    │ (\u001b[38;5;45mNone\u001b[0m, \u001b[38;5;34m61\u001b[0m, \u001b[38;5;34m61\u001b[0m, \u001b[38;5;34m64\u001b[0m)          │          \u001b[38;5;34m36,928\u001b[0m │\n",
       "├──────────────────────────────────────┼─────────────────────────────┼─────────────────┤\n",
       "│ max_pooling2d_1 (\u001b[38;5;33mMaxPooling2D\u001b[0m)       │ (\u001b[38;5;45mNone\u001b[0m, \u001b[38;5;34m30\u001b[0m, \u001b[38;5;34m30\u001b[0m, \u001b[38;5;34m64\u001b[0m)          │               \u001b[38;5;34m0\u001b[0m │\n",
       "├──────────────────────────────────────┼─────────────────────────────┼─────────────────┤\n",
       "│ conv2d_4 (\u001b[38;5;33mConv2D\u001b[0m)                    │ (\u001b[38;5;45mNone\u001b[0m, \u001b[38;5;34m30\u001b[0m, \u001b[38;5;34m30\u001b[0m, \u001b[38;5;34m128\u001b[0m)         │          \u001b[38;5;34m73,856\u001b[0m │\n",
       "├──────────────────────────────────────┼─────────────────────────────┼─────────────────┤\n",
       "│ conv2d_5 (\u001b[38;5;33mConv2D\u001b[0m)                    │ (\u001b[38;5;45mNone\u001b[0m, \u001b[38;5;34m28\u001b[0m, \u001b[38;5;34m28\u001b[0m, \u001b[38;5;34m128\u001b[0m)         │         \u001b[38;5;34m147,584\u001b[0m │\n",
       "├──────────────────────────────────────┼─────────────────────────────┼─────────────────┤\n",
       "│ max_pooling2d_2 (\u001b[38;5;33mMaxPooling2D\u001b[0m)       │ (\u001b[38;5;45mNone\u001b[0m, \u001b[38;5;34m14\u001b[0m, \u001b[38;5;34m14\u001b[0m, \u001b[38;5;34m128\u001b[0m)         │               \u001b[38;5;34m0\u001b[0m │\n",
       "├──────────────────────────────────────┼─────────────────────────────┼─────────────────┤\n",
       "│ conv2d_6 (\u001b[38;5;33mConv2D\u001b[0m)                    │ (\u001b[38;5;45mNone\u001b[0m, \u001b[38;5;34m14\u001b[0m, \u001b[38;5;34m14\u001b[0m, \u001b[38;5;34m512\u001b[0m)         │         \u001b[38;5;34m590,336\u001b[0m │\n",
       "├──────────────────────────────────────┼─────────────────────────────┼─────────────────┤\n",
       "│ conv2d_7 (\u001b[38;5;33mConv2D\u001b[0m)                    │ (\u001b[38;5;45mNone\u001b[0m, \u001b[38;5;34m12\u001b[0m, \u001b[38;5;34m12\u001b[0m, \u001b[38;5;34m512\u001b[0m)         │       \u001b[38;5;34m2,359,808\u001b[0m │\n",
       "├──────────────────────────────────────┼─────────────────────────────┼─────────────────┤\n",
       "│ max_pooling2d_3 (\u001b[38;5;33mMaxPooling2D\u001b[0m)       │ (\u001b[38;5;45mNone\u001b[0m, \u001b[38;5;34m6\u001b[0m, \u001b[38;5;34m6\u001b[0m, \u001b[38;5;34m512\u001b[0m)           │               \u001b[38;5;34m0\u001b[0m │\n",
       "├──────────────────────────────────────┼─────────────────────────────┼─────────────────┤\n",
       "│ dropout (\u001b[38;5;33mDropout\u001b[0m)                    │ (\u001b[38;5;45mNone\u001b[0m, \u001b[38;5;34m6\u001b[0m, \u001b[38;5;34m6\u001b[0m, \u001b[38;5;34m512\u001b[0m)           │               \u001b[38;5;34m0\u001b[0m │\n",
       "├──────────────────────────────────────┼─────────────────────────────┼─────────────────┤\n",
       "│ flatten (\u001b[38;5;33mFlatten\u001b[0m)                    │ (\u001b[38;5;45mNone\u001b[0m, \u001b[38;5;34m18432\u001b[0m)               │               \u001b[38;5;34m0\u001b[0m │\n",
       "├──────────────────────────────────────┼─────────────────────────────┼─────────────────┤\n",
       "│ dense (\u001b[38;5;33mDense\u001b[0m)                        │ (\u001b[38;5;45mNone\u001b[0m, \u001b[38;5;34m1500\u001b[0m)                │      \u001b[38;5;34m27,649,500\u001b[0m │\n",
       "├──────────────────────────────────────┼─────────────────────────────┼─────────────────┤\n",
       "│ dropout_1 (\u001b[38;5;33mDropout\u001b[0m)                  │ (\u001b[38;5;45mNone\u001b[0m, \u001b[38;5;34m1500\u001b[0m)                │               \u001b[38;5;34m0\u001b[0m │\n",
       "├──────────────────────────────────────┼─────────────────────────────┼─────────────────┤\n",
       "│ dense_1 (\u001b[38;5;33mDense\u001b[0m)                      │ (\u001b[38;5;45mNone\u001b[0m, \u001b[38;5;34m38\u001b[0m)                  │          \u001b[38;5;34m57,038\u001b[0m │\n",
       "└──────────────────────────────────────┴─────────────────────────────┴─────────────────┘\n"
      ]
     },
     "metadata": {},
     "output_type": "display_data"
    },
    {
     "data": {
      "text/html": [
       "<pre style=\"white-space:pre;overflow-x:auto;line-height:normal;font-family:Menlo,'DejaVu Sans Mono',consolas,'Courier New',monospace\"><span style=\"font-weight: bold\"> Total params: </span><span style=\"color: #00af00; text-decoration-color: #00af00\">30,943,690</span> (118.04 MB)\n",
       "</pre>\n"
      ],
      "text/plain": [
       "\u001b[1m Total params: \u001b[0m\u001b[38;5;34m30,943,690\u001b[0m (118.04 MB)\n"
      ]
     },
     "metadata": {},
     "output_type": "display_data"
    },
    {
     "data": {
      "text/html": [
       "<pre style=\"white-space:pre;overflow-x:auto;line-height:normal;font-family:Menlo,'DejaVu Sans Mono',consolas,'Courier New',monospace\"><span style=\"font-weight: bold\"> Trainable params: </span><span style=\"color: #00af00; text-decoration-color: #00af00\">30,943,690</span> (118.04 MB)\n",
       "</pre>\n"
      ],
      "text/plain": [
       "\u001b[1m Trainable params: \u001b[0m\u001b[38;5;34m30,943,690\u001b[0m (118.04 MB)\n"
      ]
     },
     "metadata": {},
     "output_type": "display_data"
    },
    {
     "data": {
      "text/html": [
       "<pre style=\"white-space:pre;overflow-x:auto;line-height:normal;font-family:Menlo,'DejaVu Sans Mono',consolas,'Courier New',monospace\"><span style=\"font-weight: bold\"> Non-trainable params: </span><span style=\"color: #00af00; text-decoration-color: #00af00\">0</span> (0.00 B)\n",
       "</pre>\n"
      ],
      "text/plain": [
       "\u001b[1m Non-trainable params: \u001b[0m\u001b[38;5;34m0\u001b[0m (0.00 B)\n"
      ]
     },
     "metadata": {},
     "output_type": "display_data"
    }
   ],
   "source": [
    "model.summary()"
   ]
  },
  {
   "cell_type": "markdown",
   "id": "aa0c0e2b-0c76-43d9-8f2e-5b6eac9969ad",
   "metadata": {},
   "source": [
    "## Model Training"
   ]
  },
  {
   "cell_type": "code",
   "execution_count": 23,
   "id": "703809c8-ffbc-49d2-abf1-74f8648b0173",
   "metadata": {},
   "outputs": [
    {
     "name": "stdout",
     "output_type": "stream",
     "text": [
      "Epoch 1/5\n",
      "\u001b[1m2197/2197\u001b[0m \u001b[32m━━━━━━━━━━━━━━━━━━━━\u001b[0m\u001b[37m\u001b[0m \u001b[1m7263s\u001b[0m 3s/step - accuracy: 0.7114 - loss: 0.9877 - val_accuracy: 0.8846 - val_loss: 0.3589\n",
      "Epoch 2/5\n",
      "\u001b[1m2197/2197\u001b[0m \u001b[32m━━━━━━━━━━━━━━━━━━━━\u001b[0m\u001b[37m\u001b[0m \u001b[1m6839s\u001b[0m 3s/step - accuracy: 0.9073 - loss: 0.2918 - val_accuracy: 0.9284 - val_loss: 0.2177\n",
      "Epoch 3/5\n",
      "\u001b[1m2197/2197\u001b[0m \u001b[32m━━━━━━━━━━━━━━━━━━━━\u001b[0m\u001b[37m\u001b[0m \u001b[1m7263s\u001b[0m 3s/step - accuracy: 0.9466 - loss: 0.1665 - val_accuracy: 0.9303 - val_loss: 0.2187\n",
      "Epoch 4/5\n",
      "\u001b[1m2197/2197\u001b[0m \u001b[32m━━━━━━━━━━━━━━━━━━━━\u001b[0m\u001b[37m\u001b[0m \u001b[1m7358s\u001b[0m 3s/step - accuracy: 0.9646 - loss: 0.1084 - val_accuracy: 0.9519 - val_loss: 0.1554\n",
      "Epoch 5/5\n",
      "\u001b[1m2197/2197\u001b[0m \u001b[32m━━━━━━━━━━━━━━━━━━━━\u001b[0m\u001b[37m\u001b[0m \u001b[1m7456s\u001b[0m 3s/step - accuracy: 0.9740 - loss: 0.0794 - val_accuracy: 0.9280 - val_loss: 0.2301\n"
     ]
    }
   ],
   "source": [
    "training_history = model.fit(x=training_set,validation_data = validation_set,epochs=5)"
   ]
  },
  {
   "cell_type": "markdown",
   "id": "3f4975d6-67e6-4e56-8720-ae014a0195a2",
   "metadata": {},
   "source": [
    "## Model evaluation"
   ]
  },
  {
   "cell_type": "code",
   "execution_count": 24,
   "id": "29e1cc23-353d-49fb-ada7-83e01dc99fa5",
   "metadata": {},
   "outputs": [
    {
     "name": "stdout",
     "output_type": "stream",
     "text": [
      "\u001b[1m2197/2197\u001b[0m \u001b[32m━━━━━━━━━━━━━━━━━━━━\u001b[0m\u001b[37m\u001b[0m \u001b[1m2098s\u001b[0m 955ms/step - accuracy: 0.9683 - loss: 0.0965\n"
     ]
    }
   ],
   "source": [
    "#model Evaluation for training set\n",
    "train_loss,train_acc = model.evaluate(training_set)"
   ]
  },
  {
   "cell_type": "code",
   "execution_count": 25,
   "id": "84a58f46-a238-492b-a513-5b5e3d1a17dd",
   "metadata": {},
   "outputs": [
    {
     "name": "stdout",
     "output_type": "stream",
     "text": [
      "0.0964934304356575 0.9683334231376648\n"
     ]
    }
   ],
   "source": [
    "#print how much i have lossed and how much i have got accuracy\n",
    "print(train_loss,train_acc)"
   ]
  },
  {
   "cell_type": "code",
   "execution_count": 26,
   "id": "be6e5752-dd89-4625-9b82-bb3a4b2322bd",
   "metadata": {},
   "outputs": [
    {
     "name": "stdout",
     "output_type": "stream",
     "text": [
      "\u001b[1m550/550\u001b[0m \u001b[32m━━━━━━━━━━━━━━━━━━━━\u001b[0m\u001b[37m\u001b[0m \u001b[1m408s\u001b[0m 738ms/step - accuracy: 0.9280 - loss: 0.2301\n"
     ]
    }
   ],
   "source": [
    "val_loss,val_acc = model.evaluate(validation_set)"
   ]
  },
  {
   "cell_type": "code",
   "execution_count": 27,
   "id": "03468831-9f43-435e-9c86-2cf95b53bd38",
   "metadata": {},
   "outputs": [
    {
     "name": "stdout",
     "output_type": "stream",
     "text": [
      "0.2300529032945633 0.9279535412788391\n"
     ]
    }
   ],
   "source": [
    "print(val_loss,val_acc)"
   ]
  },
  {
   "cell_type": "markdown",
   "id": "78de248f-fd06-4ede-a572-1e283ae56f0b",
   "metadata": {},
   "source": [
    "## Saving Model"
   ]
  },
  {
   "cell_type": "code",
   "execution_count": 50,
   "id": "064f996f-cf9b-4068-ae3d-8e2ee67f0cc5",
   "metadata": {},
   "outputs": [],
   "source": [
    "#to save the model training because we can do again and again \n",
    "model.save(\"trained_model1.keras\")#h5 or keras we can save the file for  compresed way we use the keras insted of h5"
   ]
  },
  {
   "cell_type": "code",
   "execution_count": 51,
   "id": "979d46a8-f1a2-4d61-8926-4d466eeb9a74",
   "metadata": {},
   "outputs": [
    {
     "data": {
      "text/plain": [
       "{'accuracy': [0.7114161849021912,\n",
       "  0.9073476195335388,\n",
       "  0.9466391801834106,\n",
       "  0.9645636081695557,\n",
       "  0.9740237593650818],\n",
       " 'loss': [0.9876884818077087,\n",
       "  0.29175519943237305,\n",
       "  0.1664930284023285,\n",
       "  0.10841110348701477,\n",
       "  0.07939428091049194],\n",
       " 'val_accuracy': [0.8846459984779358,\n",
       "  0.9284088611602783,\n",
       "  0.9302868247032166,\n",
       "  0.9519121050834656,\n",
       "  0.9279535412788391],\n",
       " 'val_loss': [0.35892924666404724,\n",
       "  0.21767131984233856,\n",
       "  0.2186783403158188,\n",
       "  0.15542413294315338,\n",
       "  0.23005272448062897]}"
      ]
     },
     "execution_count": 51,
     "metadata": {},
     "output_type": "execute_result"
    }
   ],
   "source": [
    "training_history.history"
   ]
  },
  {
   "cell_type": "code",
   "execution_count": 52,
   "id": "7eb3bf99-d674-419c-9537-553f44b58776",
   "metadata": {},
   "outputs": [],
   "source": [
    "#Recording the history in json \n",
    "import json\n",
    "with open(\"training_hist.json\",\"w\") as f:\n",
    "    json.dump(training_history.history,f)"
   ]
  },
  {
   "cell_type": "code",
   "execution_count": 53,
   "id": "39bc53b7-4012-4118-9bfd-2e3d4985009e",
   "metadata": {},
   "outputs": [
    {
     "data": {
      "text/plain": [
       "[0.8846459984779358,\n",
       " 0.9284088611602783,\n",
       " 0.9302868247032166,\n",
       " 0.9519121050834656,\n",
       " 0.9279535412788391]"
      ]
     },
     "execution_count": 53,
     "metadata": {},
     "output_type": "execute_result"
    }
   ],
   "source": [
    "training_history.history['val_accuracy']"
   ]
  },
  {
   "cell_type": "code",
   "execution_count": 54,
   "id": "77e9afee-f909-41bd-a941-1eda170ea188",
   "metadata": {},
   "outputs": [
    {
     "data": {
      "image/png": "[encoded data removed]",
      "text/plain": [
       "<Figure size 640x480 with 1 Axes>"
      ]
     },
     "metadata": {},
     "output_type": "display_data"
    }
   ],
   "source": [
    "epochs =[i for i in range(1,6)]\n",
    "plt.plot(epochs,training_history.history['accuracy'],color = 'black',label='Training accuracy')\n",
    "plt.plot(epochs,training_history.history['val_accuracy'],color = 'red',label='validation accuracy')\n",
    "plt.xlabel(\"no of Epochs\")\n",
    "plt.ylabel(\"Accuracy Result\")\n",
    "plt.title(\"Visualization of training data\")\n",
    "plt.legend()\n",
    "plt.show()"
   ]
  },
  {
   "cell_type": "markdown",
   "id": "8e421fbc-3104-48ca-9391-af78198226a0",
   "metadata": {},
   "source": [
    "## Some other matrics for model evaluation"
   ]
  },
  {
   "cell_type": "code",
   "execution_count": 55,
   "id": "315941a7-a699-43eb-b794-cf4d024e16cc",
   "metadata": {},
   "outputs": [
    {
     "data": {
      "text/plain": [
       "['Apple___Apple_scab',\n",
       " 'Apple___Black_rot',\n",
       " 'Apple___Cedar_apple_rust',\n",
       " 'Apple___healthy',\n",
       " 'Blueberry___healthy',\n",
       " 'Cherry_(including_sour)___Powdery_mildew',\n",
       " 'Cherry_(including_sour)___healthy',\n",
       " 'Corn_(maize)___Cercospora_leaf_spot Gray_leaf_spot',\n",
       " 'Corn_(maize)___Common_rust_',\n",
       " 'Corn_(maize)___Northern_Leaf_Blight',\n",
       " 'Corn_(maize)___healthy',\n",
       " 'Grape___Black_rot',\n",
       " 'Grape___Esca_(Black_Measles)',\n",
       " 'Grape___Leaf_blight_(Isariopsis_Leaf_Spot)',\n",
       " 'Grape___healthy',\n",
       " 'Orange___Haunglongbing_(Citrus_greening)',\n",
       " 'Peach___Bacterial_spot',\n",
       " 'Peach___healthy',\n",
       " 'Pepper,_bell___Bacterial_spot',\n",
       " 'Pepper,_bell___healthy',\n",
       " 'Potato___Early_blight',\n",
       " 'Potato___Late_blight',\n",
       " 'Potato___healthy',\n",
       " 'Raspberry___healthy',\n",
       " 'Soybean___healthy',\n",
       " 'Squash___Powdery_mildew',\n",
       " 'Strawberry___Leaf_scorch',\n",
       " 'Strawberry___healthy',\n",
       " 'Tomato___Bacterial_spot',\n",
       " 'Tomato___Early_blight',\n",
       " 'Tomato___Late_blight',\n",
       " 'Tomato___Leaf_Mold',\n",
       " 'Tomato___Septoria_leaf_spot',\n",
       " 'Tomato___Spider_mites Two-spotted_spider_mite',\n",
       " 'Tomato___Target_Spot',\n",
       " 'Tomato___Tomato_Yellow_Leaf_Curl_Virus',\n",
       " 'Tomato___Tomato_mosaic_virus',\n",
       " 'Tomato___healthy']"
      ]
     },
     "execution_count": 55,
     "metadata": {},
     "output_type": "execute_result"
    }
   ],
   "source": [
    "class_name = validation_set.class_names\n",
    "class_name"
   ]
  },
  {
   "cell_type": "code",
   "execution_count": 56,
   "id": "90403c5e-c469-4567-81f1-5aa9b73ef918",
   "metadata": {},
   "outputs": [
    {
     "name": "stdout",
     "output_type": "stream",
     "text": [
      "Found 17572 files belonging to 38 classes.\n"
     ]
    }
   ],
   "source": [
    "test_set = tf.keras.utils.image_dataset_from_directory(\n",
    "    \"valid\",  # This is correct because your notebook is already in the parent folder\n",
    "    labels=\"inferred\",\n",
    "    label_mode=\"categorical\",\n",
    "    class_names=None,\n",
    "    color_mode=\"rgb\",\n",
    "    batch_size=32,\n",
    "    image_size=(128, 128),\n",
    "    shuffle=False,#it will take sequential fassion\n",
    "    seed=None,\n",
    "    validation_split=None,\n",
    "    subset=None,\n",
    "    interpolation=\"bilinear\",\n",
    "    follow_links=False,\n",
    "    crop_to_aspect_ratio=False,\n",
    "    pad_to_aspect_ratio=False,\n",
    ")"
   ]
  },
  {
   "cell_type": "code",
   "execution_count": 57,
   "id": "0b5162f0-c1d4-4b8f-8311-18b52e15eb8e",
   "metadata": {},
   "outputs": [
    {
     "name": "stdout",
     "output_type": "stream",
     "text": [
      "\u001b[1m550/550\u001b[0m \u001b[32m━━━━━━━━━━━━━━━━━━━━\u001b[0m\u001b[37m\u001b[0m \u001b[1m976s\u001b[0m 2s/step\n"
     ]
    },
    {
     "data": {
      "text/plain": [
       "array([[9.9995911e-01, 2.4006018e-05, 9.8980317e-09, ..., 4.4588039e-10,\n",
       "        3.4082419e-09, 1.4684671e-08],\n",
       "       [9.9981958e-01, 1.3605988e-04, 2.3113728e-08, ..., 1.3286608e-10,\n",
       "        1.7518140e-09, 4.1665420e-08],\n",
       "       [9.9998963e-01, 1.5017984e-07, 1.1899424e-09, ..., 9.3412271e-14,\n",
       "        1.2942093e-10, 4.8537263e-09],\n",
       "       ...,\n",
       "       [4.3664290e-08, 3.1772182e-11, 3.0218498e-08, ..., 3.8416506e-10,\n",
       "        3.7139367e-10, 9.9999809e-01],\n",
       "       [2.5772845e-06, 6.3069487e-11, 1.2796755e-08, ..., 9.3331509e-10,\n",
       "        1.7008348e-10, 9.9999619e-01],\n",
       "       [5.2253487e-13, 2.6118740e-15, 2.4011026e-13, ..., 9.3356211e-15,\n",
       "        2.1814951e-11, 1.0000000e+00]], dtype=float32)"
      ]
     },
     "execution_count": 57,
     "metadata": {},
     "output_type": "execute_result"
    }
   ],
   "source": [
    "y_pred = model.predict(test_set)\n",
    "y_pred"
   ]
  },
  {
   "cell_type": "code",
   "execution_count": 58,
   "id": "179a945d-1f85-4f42-a600-18487ef2e6e6",
   "metadata": {},
   "outputs": [],
   "source": [
    "predicted_categories = tf.argmax(y_pred,axis=1)#argmax is used for the return the maximum value in axis 1 means in vertical way"
   ]
  },
  {
   "cell_type": "code",
   "execution_count": 59,
   "id": "94681ab5-2f73-4e58-a5d5-89dc3773e5a6",
   "metadata": {},
   "outputs": [
    {
     "data": {
      "text/plain": [
       "<tf.Tensor: shape=(17572,), dtype=int64, numpy=array([ 0,  0,  0, ..., 37, 37, 37])>"
      ]
     },
     "execution_count": 59,
     "metadata": {},
     "output_type": "execute_result"
    }
   ],
   "source": [
    "predicted_categories"
   ]
  },
  {
   "cell_type": "code",
   "execution_count": 60,
   "id": "00d59b10-8ad0-420d-9aa1-5109cffb1d1c",
   "metadata": {},
   "outputs": [
    {
     "data": {
      "text/plain": [
       "<tf.Tensor: shape=(17572, 38), dtype=float32, numpy=\n",
       "array([[1., 0., 0., ..., 0., 0., 0.],\n",
       "       [1., 0., 0., ..., 0., 0., 0.],\n",
       "       [1., 0., 0., ..., 0., 0., 0.],\n",
       "       ...,\n",
       "       [0., 0., 0., ..., 0., 0., 1.],\n",
       "       [0., 0., 0., ..., 0., 0., 1.],\n",
       "       [0., 0., 0., ..., 0., 0., 1.]], dtype=float32)>"
      ]
     },
     "execution_count": 60,
     "metadata": {},
     "output_type": "execute_result"
    }
   ],
   "source": [
    "#true categories\n",
    "true_categories = tf.concat([y for x,y in test_set],axis=0)\n",
    "true_categories "
   ]
  },
  {
   "cell_type": "code",
   "execution_count": 61,
   "id": "431f2088-61c4-4f86-bcf7-33ed42574950",
   "metadata": {},
   "outputs": [
    {
     "data": {
      "text/plain": [
       "<tf.Tensor: shape=(17572,), dtype=int64, numpy=array([ 0,  0,  0, ..., 37, 37, 37])>"
      ]
     },
     "execution_count": 61,
     "metadata": {},
     "output_type": "execute_result"
    }
   ],
   "source": [
    "Y_true = tf.argmax(true_categories,axis=1)\n",
    "Y_true"
   ]
  },
  {
   "cell_type": "markdown",
   "id": "c64ca6af-422c-4a38-80a8-cab3e0d26ebb",
   "metadata": {},
   "source": [
    "### calculate the presision recal\n"
   ]
  },
  {
   "cell_type": "code",
   "execution_count": 62,
   "id": "e8df8188-a626-43c6-b331-eac72c855b31",
   "metadata": {},
   "outputs": [
    {
     "name": "stdout",
     "output_type": "stream",
     "text": [
      "Requirement already satisfied: scikit-learn in c:\\users\\varsh\\.conda\\anaconda\\envs\\tensorflow_env\\lib\\site-packages (1.7.1)\n",
      "Requirement already satisfied: numpy>=1.22.0 in c:\\users\\varsh\\.conda\\anaconda\\envs\\tensorflow_env\\lib\\site-packages (from scikit-learn) (2.1.3)\n",
      "Requirement already satisfied: scipy>=1.8.0 in c:\\users\\varsh\\.conda\\anaconda\\envs\\tensorflow_env\\lib\\site-packages (from scikit-learn) (1.15.3)\n",
      "Requirement already satisfied: joblib>=1.2.0 in c:\\users\\varsh\\.conda\\anaconda\\envs\\tensorflow_env\\lib\\site-packages (from scikit-learn) (1.5.1)\n",
      "Requirement already satisfied: threadpoolctl>=3.1.0 in c:\\users\\varsh\\.conda\\anaconda\\envs\\tensorflow_env\\lib\\site-packages (from scikit-learn) (3.6.0)\n"
     ]
    }
   ],
   "source": [
    "# it is used for thw check the model that is correctly predicted  by compare the first trained one and resulted one\n",
    "!pip install scikit-learn\n",
    "from sklearn.metrics import classification_report,confusion_matrix"
   ]
  },
  {
   "cell_type": "code",
   "execution_count": 63,
   "id": "0e38a169-b031-45ec-8798-3a91c72a5ab8",
   "metadata": {},
   "outputs": [
    {
     "name": "stdout",
     "output_type": "stream",
     "text": [
      "                                                    precision    recall  f1-score   support\n",
      "\n",
      "                                Apple___Apple_scab       0.80      0.97      0.88       504\n",
      "                                 Apple___Black_rot       0.89      0.98      0.93       497\n",
      "                          Apple___Cedar_apple_rust       0.97      0.92      0.94       440\n",
      "                                   Apple___healthy       0.98      0.88      0.93       502\n",
      "                               Blueberry___healthy       0.95      0.95      0.95       454\n",
      "          Cherry_(including_sour)___Powdery_mildew       0.96      0.99      0.98       421\n",
      "                 Cherry_(including_sour)___healthy       0.96      0.98      0.97       456\n",
      "Corn_(maize)___Cercospora_leaf_spot Gray_leaf_spot       0.91      0.88      0.90       410\n",
      "                       Corn_(maize)___Common_rust_       1.00      0.97      0.99       477\n",
      "               Corn_(maize)___Northern_Leaf_Blight       0.91      0.95      0.93       477\n",
      "                            Corn_(maize)___healthy       0.95      1.00      0.98       465\n",
      "                                 Grape___Black_rot       0.96      0.93      0.95       472\n",
      "                      Grape___Esca_(Black_Measles)       0.95      0.98      0.97       480\n",
      "        Grape___Leaf_blight_(Isariopsis_Leaf_Spot)       0.99      0.98      0.98       430\n",
      "                                   Grape___healthy       1.00      0.98      0.99       423\n",
      "          Orange___Haunglongbing_(Citrus_greening)       0.98      0.99      0.98       503\n",
      "                            Peach___Bacterial_spot       0.92      0.96      0.94       459\n",
      "                                   Peach___healthy       0.95      0.99      0.97       432\n",
      "                     Pepper,_bell___Bacterial_spot       0.98      0.82      0.89       478\n",
      "                            Pepper,_bell___healthy       0.80      0.99      0.88       497\n",
      "                             Potato___Early_blight       0.95      0.99      0.97       485\n",
      "                              Potato___Late_blight       0.95      0.90      0.93       485\n",
      "                                  Potato___healthy       0.93      0.85      0.89       456\n",
      "                               Raspberry___healthy       1.00      0.64      0.78       445\n",
      "                                 Soybean___healthy       0.91      0.97      0.94       505\n",
      "                           Squash___Powdery_mildew       0.99      0.91      0.95       434\n",
      "                          Strawberry___Leaf_scorch       0.96      0.97      0.97       444\n",
      "                              Strawberry___healthy       0.95      0.93      0.94       456\n",
      "                           Tomato___Bacterial_spot       0.97      0.94      0.95       425\n",
      "                             Tomato___Early_blight       0.82      0.85      0.84       480\n",
      "                              Tomato___Late_blight       0.89      0.88      0.89       463\n",
      "                                Tomato___Leaf_Mold       0.92      0.96      0.94       470\n",
      "                       Tomato___Septoria_leaf_spot       0.91      0.76      0.83       436\n",
      "     Tomato___Spider_mites Two-spotted_spider_mite       0.97      0.72      0.83       435\n",
      "                              Tomato___Target_Spot       0.70      0.95      0.81       457\n",
      "            Tomato___Tomato_Yellow_Leaf_Curl_Virus       0.99      0.93      0.96       490\n",
      "                      Tomato___Tomato_mosaic_virus       0.94      0.98      0.96       448\n",
      "                                  Tomato___healthy       0.95      0.99      0.97       481\n",
      "\n",
      "                                          accuracy                           0.93     17572\n",
      "                                         macro avg       0.93      0.93      0.93     17572\n",
      "                                      weighted avg       0.93      0.93      0.93     17572\n",
      "\n"
     ]
    }
   ],
   "source": [
    "print(classification_report(Y_true,predicted_categories,target_names=class_name))"
   ]
  },
  {
   "cell_type": "code",
   "execution_count": 64,
   "id": "2f0adf20-d0bb-4ed6-a54b-bd7f56c7d587",
   "metadata": {},
   "outputs": [
    {
     "data": {
      "text/plain": [
       "(38, 38)"
      ]
     },
     "execution_count": 64,
     "metadata": {},
     "output_type": "execute_result"
    }
   ],
   "source": [
    "cm =confusion_matrix (Y_true,predicted_categories)\n",
    "cm.shape"
   ]
  },
  {
   "cell_type": "markdown",
   "id": "86ad7a7f-49b1-4f5b-adb4-3f6b2f759a98",
   "metadata": {},
   "source": [
    "## visualization of confussion matrix\n"
   ]
  },
  {
   "cell_type": "code",
   "execution_count": 65,
   "id": "2e6c1807-71d4-4a7e-bfc5-ba290517e5e0",
   "metadata": {},
   "outputs": [
    {
     "data": {
      "image/png": "[encoded data removed]",
      "text/plain": [
       "<Figure size 4000x4000 with 2 Axes>"
      ]
     },
     "metadata": {},
     "output_type": "display_data"
    }
   ],
   "source": [
    "#we use the plt and sns\n",
    "plt.figure(figsize=(40,40))\n",
    "sns.heatmap(cm,annot=True,annot_kws={'size':5})\n",
    "plt.xlabel(\"predicted class\",fontsize=30)\n",
    "plt.ylabel(\"Actual class\",fontsize=25)\n",
    "plt.title(\"Ai for agriculture\",fontsize=30)\n",
    "plt.show()"
   ]
  },
  {
   "cell_type": "code",
   "execution_count": null,
   "id": "7466f3e9-1db5-417a-8d8f-a3ff11933bb6",
   "metadata": {},
   "outputs": [],
   "source": []
  },
  {
   "cell_type": "markdown",
   "id": "0c740fc4-05ea-4560-8193-3390f4ebfae0",
   "metadata": {},
   "source": [
    "### for soil prediction"
   ]
  },
  {
   "cell_type": "code",
   "execution_count": null,
   "id": "5b13d3a0-6e67-4b60-8bfd-f29d4825dd6a",
   "metadata": {},
   "outputs": [],
   "source": [
    "import pandas as pd\n",
    "import numpy as np\n",
    "from sklearn.preprocessing import LabelEncoder\n",
    "from sklearn.model_selection import train_test_split\n",
    "from sklearn.tree import DecisionTreeClassifier\n",
    "from sklearn.metrics import classification_report, accuracy_score\n",
    "\n",
    "# Step 1: Load your input CSV\n",
    "df = pd.read_csv(\"Crop_recommendation.csv\")  # Replace with your actual CSV filename\n",
    "\n",
    "# Step 2: Create a synthetic 'Crop' label (example)\n",
    "conditions = [\n",
    "    (df['N'] < 70),\n",
    "    (df['N'] >= 70) & (df['N'] < 85),\n",
    "    (df['N'] >= 85)\n",
    "]\n",
    "choices = ['Rice', 'Wheat', 'Maize']\n",
    "df['Crop'] = np.select(conditions, choices, default='Unknown')  # <-- FIXED\n",
    "\n",
    "# Step 3: Encode categorical label\n",
    "le_crop = LabelEncoder()\n",
    "df['Crop'] = le_crop.fit_transform(df['Crop'])\n",
    "\n",
    "# Step 4: Prepare features and labels\n",
    "X = df[['N', 'P', 'K', 'temperature', 'humidity', 'ph', 'rainfall']]\n",
    "y = df['Crop']\n",
    "\n",
    "# Step 5: Train-test split\n",
    "X_train, X_test, y_train, y_test = train_test_split(X, y, test_size=0.2, random_state=42)\n",
    "\n",
    "# Step 6: Train a model\n",
    "clf = DecisionTreeClassifier()\n",
    "clf.fit(X_train, y_train)\n",
    "\n",
    "# Step 7: Predict and evaluate\n",
    "y_pred = clf.predict(X_test)\n",
    "print(\"Accuracy:\", accuracy_score(y_test, y_pred))\n",
    "print(\"Classification Report:\\n\", classification_report(y_test, y_pred, target_names=le_crop.classes_))\n"
   ]
  },
  {
   "cell_type": "code",
   "execution_count": null,
   "id": "b4642a43-505e-45c9-88a2-19393e3ac62f",
   "metadata": {},
   "outputs": [],
   "source": []
  }
 ],
 "metadata": {
  "kernelspec": {
   "display_name": "Python (AI for Agriculture)",
   "language": "python",
   "name": "tensorflow_env"
  },
  "language_info": {
   "codemirror_mode": {
    "name": "ipython",
    "version": 3
   },
   "file_extension": ".py",
   "mimetype": "text/x-python",
   "name": "python",
   "nbconvert_exporter": "python",
   "pygments_lexer": "ipython3",
   "version": "3.10.18"
  }
 },
 "nbformat": 4,
 "nbformat_minor": 5
}
